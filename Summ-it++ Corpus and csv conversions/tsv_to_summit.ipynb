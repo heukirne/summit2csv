{
 "cells": [
  {
   "cell_type": "code",
   "execution_count": 43,
   "metadata": {},
   "outputs": [
    {
     "name": "stdout",
     "output_type": "stream",
     "text": [
      "OrderedDict([('id_txt', OrderedDict([('id_sent', [])])), ('CIENCIA_2002_22010', OrderedDict([('S8', []), ('S13', [])])), ('CIENCIA_2005_28756', OrderedDict([('S2', [])])), ('CIENCIA_2003_6472', OrderedDict([('S2', [])])), ('CIENCIA_2000_17113', OrderedDict([('S18', [])])), ('CIENCIA_2003_6457', OrderedDict([('S0', []), ('S1', []), ('S3', []), ('S9', [])])), ('CIENCIA_2001_19858', OrderedDict([('S0', [])])), ('CIENCIA_2004_6488', OrderedDict([('S0', []), ('S2', []), ('S5', [])])), ('CIENCIA_2003_24219', OrderedDict([('S1', []), ('S4', []), ('S15', []), ('S17', [])])), ('CIENCIA_2001_6423', OrderedDict([('S1', []), ('S3', [])])), ('CIENCIA_2003_6465', OrderedDict([('S1', [])])), ('CIENCIA_2001_6410', OrderedDict([('S1', [])])), ('CIENCIA_2000_6389', OrderedDict([('S1', []), ('S6', [])])), ('CIENCIA_2001_6414', OrderedDict([('S0', []), ('S2', []), ('S8', [])])), ('CIENCIA_2002_22005', OrderedDict([('S3', []), ('S7', []), ('S11', []), ('S14', [])])), ('CIENCIA_2003_24226', OrderedDict([('S4', []), ('S6', []), ('S15', [])])), ('CIENCIA_2000_17082', OrderedDict([('S0', []), ('S12', [])])), ('CIENCIA_2005_28766', OrderedDict([('S3', []), ('S4', []), ('S16', [])])), ('CIENCIA_2000_6380', OrderedDict([('S1', []), ('S2', [])])), ('CIENCIA_2005_28755', OrderedDict([('S4', []), ('S6', []), ('S16', [])])), ('CIENCIA_2005_28764', OrderedDict([('S3', []), ('S8', [])])), ('CIENCIA_2000_17112', OrderedDict([('S2', []), ('S4', []), ('S15', [])])), ('CIENCIA_2004_26417', OrderedDict([('S12', [])])), ('CIENCIA_2005_28747', OrderedDict([('S1', [])])), ('CIENCIA_2005_28743', OrderedDict([('S9', []), ('S10', [])])), ('CIENCIA_2003_24212', OrderedDict([('S3', []), ('S4', []), ('S6', []), ('S19', []), ('S24', [])])), ('CIENCIA_2004_26423', OrderedDict([('S2', []), ('S15', []), ('S21', [])])), ('CIENCIA_2004_26425', OrderedDict([('S1', []), ('S3', []), ('S18', [])])), ('CIENCIA_2000_6381', OrderedDict([('S7', [])])), ('CIENCIA_2002_22027', OrderedDict([('S7', [])])), ('CIENCIA_2000_17108', OrderedDict([('S4', []), ('S16', [])])), ('CIENCIA_2005_28754', OrderedDict([('S25', [])])), ('CIENCIA_2001_6416', OrderedDict([('S1', [])])), ('CIENCIA_2002_22029', OrderedDict([('S9', []), ('S11', []), ('S14', [])])), ('CIENCIA_2000_17109', OrderedDict([('S4', []), ('S6', [])])), ('CIENCIA_2005_28774', OrderedDict([('S35', [])])), ('CIENCIA_2001_6406', OrderedDict([('S0', []), ('S4', [])])), ('CIENCIA_2000_17101', OrderedDict([('S14', [])])), ('CIENCIA_2005_6518', OrderedDict([('S3', []), ('S14', [])])), ('CIENCIA_2000_6391', OrderedDict([('S0', []), ('S2', []), ('S4', []), ('S6', []), ('S7', [])])), ('CIENCIA_2004_6494', OrderedDict([('S1', [])])), ('CIENCIA_2004_26415', OrderedDict([('S1', []), ('S2', [])])), ('CIENCIA_2005_6515', OrderedDict([('S0', []), ('S5', []), ('S9', [])])), ('CIENCIA_2004_6480', OrderedDict([('S0', []), ('S3', []), ('S8', [])])), ('CIENCIA_2002_22023', OrderedDict([('S8', []), ('S10', [])]))])\n"
     ]
    }
   ],
   "source": [
    "import collections\n",
    "\n",
    "texts = collections.OrderedDict()\n",
    "sentences = collections.OrderedDict()\n",
    "words = []\n",
    "columns = []\n",
    "prevLine = []\n",
    "\n",
    "with open(\"Summ-it++v3.txt\", \"r\", encoding = \"utf8\") as saida, open(\"saida.tsv\", \"r\", encoding = \"utf8\") as entrada:\n",
    "    for line in entrada:\n",
    "        colunas = line.split(\"\\t\")\n",
    "        if not colunas[0] in texts:\n",
    "            texts[colunas[0]] = collections.OrderedDict()\n",
    "        texts[colunas[0]][colunas[1]] = []\n",
    "    #print(texts[\"CIENCIA_2002_22010\"][\"S13\"])\n",
    "    print(texts)"
   ]
  },
  {
   "cell_type": "code",
   "execution_count": null,
   "metadata": {
    "collapsed": true
   },
   "outputs": [],
   "source": []
  }
 ],
 "metadata": {
  "kernelspec": {
   "display_name": "Python 3",
   "language": "python",
   "name": "python3"
  },
  "language_info": {
   "codemirror_mode": {
    "name": "ipython",
    "version": 3
   },
   "file_extension": ".py",
   "mimetype": "text/x-python",
   "name": "python",
   "nbconvert_exporter": "python",
   "pygments_lexer": "ipython3",
   "version": "3.5.3"
  }
 },
 "nbformat": 4,
 "nbformat_minor": 2
}
