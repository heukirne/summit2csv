{
 "cells": [
  {
   "cell_type": "code",
   "execution_count": 1,
   "metadata": {
    "collapsed": true
   },
   "outputs": [],
   "source": [
    "import os"
   ]
  },
  {
   "cell_type": "code",
   "execution_count": 24,
   "metadata": {},
   "outputs": [
    {
     "data": {
      "text/plain": [
       "['0', 'Seja', 'ser', 'v-fin', 'PR=3S=SUBJ', '_', '_', '_', '_\\n']"
      ]
     },
     "execution_count": 24,
     "metadata": {},
     "output_type": "execute_result"
    }
   ],
   "source": [
    "arquivo = open(\"Summ-it++v2.txt\", \"r\", encoding=\"iso-8859-1\")\n",
    "arquivo.readline()\n",
    "arquivo.readline().split('\\t')"
   ]
  },
  {
   "cell_type": "code",
   "execution_count": 14,
   "metadata": {
    "collapsed": true
   },
   "outputs": [],
   "source": [
    "with open(\"Summ-it++v2.txt\", \"r\", encoding=\"iso-8859-1\") as file:\n",
    "    for line in file:\n",
    "        strLine = \"\"\n",
    "        columns = line.split('\\t')\n",
    "        if len(columns) == 9: \n",
    "            if len(columns[6]) > 1:\n",
    "                strLine += \"<span class='entity'>\" + columns[1]  + \"</span>\"\n",
    "                #print (strLine)\n",
    "            else:\n",
    "                strLine += \"<span class='word'>\" + columns[1]  + \"</span>\"\n",
    "                #print (strLine)"
   ]
  },
  {
   "cell_type": "code",
   "execution_count": 54,
   "metadata": {},
   "outputs": [
    {
     "name": "stdout",
     "output_type": "stream",
     "text": [
      "CIENCIA_2002_22010\tS8\t<span data-id='0' class='word'>A</span> <span data-id='1' class='word'>equipe</span> <span data-id='2' class='word'>de</span> <span data-id='3' class='per'>Peter_Savolainen</span> <span data-id='4' class='word'>,</span> <span data-id='5' class='word'>de</span> <span data-id='6' class='word'>o</span> <span data-id='7' class='org'>Instituto_Real_de_Tecnologia</span> <span data-id='8' class='word'>,</span> <span data-id='9' class='word'>de</span> <span data-id='10' class='entity'>Estocolmo</span> <span data-id='11' class='word'>,</span> <span data-id='12' class='entity'>Suécia</span> <span data-id='13' class='word'>,</span> <span data-id='14' class='word'>constatou</span> <span data-id='15' class='word'>que</span> <span data-id='16' class='word'>a</span> <span data-id='17' class='word'>diversidade</span> <span data-id='18' class='word'>genética</span> <span data-id='19' class='word'>era</span> <span data-id='20' class='word'>maior</span> <span data-id='21' class='word'>entre</span> <span data-id='22' class='word'>os</span> <span data-id='23' class='word'>cães</span> <span data-id='24' class='word'>de</span> <span data-id='25' class='word'>o</span> <span data-id='26' class='word'>leste</span> <span data-id='27' class='word'>asiático</span> <span data-id='28' class='word'>.</span> \n",
      "\n",
      "CIENCIA_2002_22010\tS8\t<span data-id='0' class='word'>A</span> <span data-id='1' class='word'>equipe</span> <span data-id='2' class='word'>de</span> <span data-id='3' class='entity'>Peter_Savolainen</span> <span data-id='4' class='word'>,</span> <span data-id='5' class='word'>de</span> <span data-id='6' class='word'>o</span> <span data-id='7' class='org'>Instituto_Real_de_Tecnologia</span> <span data-id='8' class='word'>,</span> <span data-id='9' class='word'>de</span> <span data-id='10' class='plc'>Estocolmo</span> <span data-id='11' class='word'>,</span> <span data-id='12' class='entity'>Suécia</span> <span data-id='13' class='word'>,</span> <span data-id='14' class='word'>constatou</span> <span data-id='15' class='word'>que</span> <span data-id='16' class='word'>a</span> <span data-id='17' class='word'>diversidade</span> <span data-id='18' class='word'>genética</span> <span data-id='19' class='word'>era</span> <span data-id='20' class='word'>maior</span> <span data-id='21' class='word'>entre</span> <span data-id='22' class='word'>os</span> <span data-id='23' class='word'>cães</span> <span data-id='24' class='word'>de</span> <span data-id='25' class='word'>o</span> <span data-id='26' class='word'>leste</span> <span data-id='27' class='word'>asiático</span> <span data-id='28' class='word'>.</span> \n",
      "\n",
      "CIENCIA_2002_22010\tS8\t<span data-id='0' class='word'>A</span> <span data-id='1' class='word'>equipe</span> <span data-id='2' class='word'>de</span> <span data-id='3' class='entity'>Peter_Savolainen</span> <span data-id='4' class='word'>,</span> <span data-id='5' class='word'>de</span> <span data-id='6' class='word'>o</span> <span data-id='7' class='org'>Instituto_Real_de_Tecnologia</span> <span data-id='8' class='word'>,</span> <span data-id='9' class='word'>de</span> <span data-id='10' class='entity'>Estocolmo</span> <span data-id='11' class='word'>,</span> <span data-id='12' class='plc'>Suécia</span> <span data-id='13' class='word'>,</span> <span data-id='14' class='word'>constatou</span> <span data-id='15' class='word'>que</span> <span data-id='16' class='word'>a</span> <span data-id='17' class='word'>diversidade</span> <span data-id='18' class='word'>genética</span> <span data-id='19' class='word'>era</span> <span data-id='20' class='word'>maior</span> <span data-id='21' class='word'>entre</span> <span data-id='22' class='word'>os</span> <span data-id='23' class='word'>cães</span> <span data-id='24' class='word'>de</span> <span data-id='25' class='word'>o</span> <span data-id='26' class='word'>leste</span> <span data-id='27' class='word'>asiático</span> <span data-id='28' class='word'>.</span> \n",
      "\n",
      "CIENCIA_2001_6414\tS8\t<span data-id='0' class='word'>\"</span> <span data-id='1' class='word'>Ninhais</span> <span data-id='2' class='word'>que</span> <span data-id='3' class='word'>eram</span> <span data-id='4' class='word'>ocupados</span> <span data-id='5' class='entity'>há</span> <span data-id='6' class='entity'>650</span> <span data-id='7' class='entity'>anos</span> <span data-id='8' class='word'>sumiram</span> <span data-id='9' class='word'>\"</span> <span data-id='10' class='word'>,</span> <span data-id='11' class='word'>contou</span> <span data-id='12' class='per'>David_Vaughan</span> <span data-id='13' class='word'>a</span> <span data-id='14' class='word'>a</span> <span data-id='15' class='org'>Folha</span> <span data-id='16' class='word'>.</span> \n",
      "\n",
      "CIENCIA_2005_28764\tS8\t<span data-id='0' class='word'>É</span> <span data-id='1' class='word'>aí</span> <span data-id='2' class='word'>que</span> <span data-id='3' class='word'>a</span> <span data-id='4' class='word'>seleção</span> <span data-id='5' class='word'>geralmente</span> <span data-id='6' class='word'>vai</span> <span data-id='7' class='word'>ser</span> <span data-id='8' class='word'>mais</span> <span data-id='9' class='word'>forte</span> <span data-id='10' class='word'>\"</span> <span data-id='11' class='word'>,</span> <span data-id='12' class='word'>explicou</span> <span data-id='13' class='per'>Laden</span> <span data-id='14' class='word'>a</span> <span data-id='15' class='word'>a</span> <span data-id='16' class='org'>Folha</span> <span data-id='17' class='word'>.</span> \n",
      "\n",
      "CIENCIA_2004_6480\tS8\t<span data-id='0' class='word'>Agora</span> <span data-id='1' class='word'>é</span> <span data-id='2' class='word'>uma</span> <span data-id='3' class='word'>questão</span> <span data-id='4' class='word'>de</span> <span data-id='5' class='word'>aplicar</span> <span data-id='6' class='word'>e</span> <span data-id='7' class='word'>de</span> <span data-id='8' class='word'>divulgar</span> <span data-id='9' class='word'>melhor</span> <span data-id='10' class='word'>esse</span> <span data-id='11' class='word'>conhecimento</span> <span data-id='12' class='word'>.</span> <span data-id='13' class='word'>\"</span> <span data-id='14' class='entity'>Vitoriosa</span> <span data-id='15' class='word'>é</span> <span data-id='16' class='word'>o</span> <span data-id='17' class='word'>resultado</span> <span data-id='18' class='word'>de</span> <span data-id='19' class='word'>um</span> <span data-id='20' class='word'>experimento</span> <span data-id='21' class='word'>realizado</span> <span data-id='22' class='word'>por</span> <span data-id='23' class='word'>a</span> <span data-id='24' class='org'>Embrapa</span> <span data-id='25' class='word'>(</span> <span data-id='26' class='per'>Empresa_Brasileira_de_Pesquisa_Agropecuária</span> <span data-id='27' class='word'>)</span> <span data-id='28' class='word'>.</span> \n",
      "\n",
      "CIENCIA_2002_22023\tS8\t<span data-id='0' class='word'>\"</span> <span data-id='1' class='entity'>Em</span> <span data-id='2' class='entity'>oito</span> <span data-id='3' class='entity'>anos</span> <span data-id='4' class='word'>,</span> <span data-id='5' class='word'>detectamos</span> <span data-id='6' class='word'>mais_de</span> <span data-id='7' class='entity'>300</span> <span data-id='8' class='word'>eventos</span> <span data-id='9' class='word'>,</span> <span data-id='10' class='word'>graças_ao</span> <span data-id='11' class='word'>o</span> <span data-id='12' class='word'>nosso</span> <span data-id='13' class='word'>sistema</span> <span data-id='14' class='word'>de</span> <span data-id='15' class='word'>calibragem</span> <span data-id='16' class='word'>de</span> <span data-id='17' class='word'>os</span> <span data-id='18' class='word'>dados</span> <span data-id='19' class='word'>de</span> <span data-id='20' class='word'>satélite</span> <span data-id='21' class='word'>\"</span> <span data-id='22' class='word'>,</span> <span data-id='23' class='word'>conta</span> <span data-id='24' class='per'>Douglas_Revelle</span> <span data-id='25' class='word'>,</span> <span data-id='26' class='word'>de</span> <span data-id='27' class='word'>o</span> <span data-id='28' class='org'>Laboratório_Nacional_de_Los_Alamos</span> <span data-id='29' class='word'>,</span> <span data-id='30' class='word'>um</span> <span data-id='31' class='word'>de</span> <span data-id='32' class='word'>os</span> <span data-id='33' class='word'>autores</span> <span data-id='34' class='word'>de</span> <span data-id='35' class='word'>o</span> <span data-id='36' class='word'>estudo</span> <span data-id='37' class='word'>,</span> <span data-id='38' class='word'>que</span> <span data-id='39' class='word'>está</span> <span data-id='40' class='word'>publicado</span> <span data-id='41' class='word'>em</span> <span data-id='42' class='word'>a</span> <span data-id='43' class='word'>edição</span> <span data-id='44' class='word'>de</span> <span data-id='45' class='entity'>hoje</span> <span data-id='46' class='word'>de</span> <span data-id='47' class='word'>a</span> <span data-id='48' class='word'>revista</span> <span data-id='49' class='word'>britânica</span> <span data-id='50' class='entity'>\"</span> <span data-id='51' class='entity'>Nature</span> <span data-id='52' class='entity'>\"</span> <span data-id='53' class='word'>(</span> <span data-id='54' class='word'>www</span> <span data-id='55' class='word'>.nature</span> <span data-id='56' class='word'>.com</span> <span data-id='57' class='word'>)</span> <span data-id='58' class='word'>.</span> \n",
      "\n"
     ]
    }
   ],
   "source": [
    "def montaTexto(idText, idSent, k1, k2, v1, v2, palavras):\n",
    "    strLine = idText + \"\\t\" + idSent + \"\\t\" \n",
    "    for idx in palavras:\n",
    "        strLine += \"<span data-id='\" + str(idx) + \"' class='\"\n",
    "        if idx != k1 and idx != k2:    \n",
    "            if len(palavras[idx][1]) > 1:\n",
    "                strLine += \"entity'>\"\n",
    "            else:\n",
    "                strLine += \"word'>\"\n",
    "            strLine += palavras[idx][0] + \"</span> \"\n",
    "        else:\n",
    "            if idx == k1:\n",
    "                strLine += \"org'>\"\n",
    "            else:\n",
    "                if v2.find(\"PLC\") >= 0:\n",
    "                    strLine += \"plc'>\"\n",
    "                else:\n",
    "                    strLine += \"per'>\"\n",
    "            strLine += palavras[idx][0] + \"</span> \"\n",
    "    \n",
    "    if idSent == \"S8\":\n",
    "        print (strLine)\n",
    "        print (\"\")\n",
    "    with open(\"saida.tsv\", \"a\") as myfile:\n",
    "        myfile.write(strLine)\n",
    "        myfile.write(\"\\n\")\n",
    "    \n",
    "import collections\n",
    "\n",
    "open(\"saida.tsv\", 'w').close()\n",
    "with open(\"saida.tsv\", \"a\") as myfile:\n",
    "    myfile.write(\"id_txt\\tid_sent\\thtml\")\n",
    "    myfile.write(\"\\n\")\n",
    "entidades = collections.OrderedDict()\n",
    "palavras = collections.OrderedDict()\n",
    "\n",
    "with open(\"Summ-it++v3.txt\", \"r\", encoding = \"utf8\") as file:\n",
    "    for line in file:\n",
    "        columns = line.split('\\t')\n",
    "            \n",
    "        if line.find(\"#begin\") >= 0:\n",
    "            columns = line.split('/')\n",
    "            idText = columns[7]\n",
    "        \n",
    "        columns = line.split('\\t')\n",
    "        \n",
    "        if len(columns) >= 6:\n",
    "            idSent = columns[0]\n",
    "            palavras[int(columns[1])] = [columns[2], columns[7]]\n",
    "            if columns[7].find(\"(ORG\") >= 0 or columns[7].find(\"(PLC\") >= 0 or columns[7].find(\"(PER\") >= 0:\n",
    "                entidades[int(columns[1])] = columns[7]\n",
    "\n",
    "        if line == \"\\n\":\n",
    "            if len(entidades) > 1:\n",
    "                for k1, v1 in entidades.items():\n",
    "                    if v1.find(\"ORG\") >= 0:\n",
    "                        for k2, v2 in entidades.items():\n",
    "                            if k1 != k2:\n",
    "                                if k2 < k1 and v2.find(\"ORG\") >= 0: \n",
    "                                    pass\n",
    "                                else:\n",
    "                                    montaTexto(idText, idSent, k1, k2, v1, v2, palavras)\n",
    "            entidades = collections.OrderedDict()\n",
    "            palavras = collections.OrderedDict()"
   ]
  },
  {
   "cell_type": "code",
   "execution_count": null,
   "metadata": {
    "collapsed": true
   },
   "outputs": [],
   "source": []
  }
 ],
 "metadata": {
  "kernelspec": {
   "display_name": "Python 3",
   "language": "python",
   "name": "python3"
  },
  "language_info": {
   "codemirror_mode": {
    "name": "ipython",
    "version": 3
   },
   "file_extension": ".py",
   "mimetype": "text/x-python",
   "name": "python",
   "nbconvert_exporter": "python",
   "pygments_lexer": "ipython3",
   "version": "3.5.3"
  }
 },
 "nbformat": 4,
 "nbformat_minor": 2
}
