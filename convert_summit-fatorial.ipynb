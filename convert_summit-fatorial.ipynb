{
 "cells": [
  {
   "cell_type": "code",
   "execution_count": 1,
   "metadata": {
    "collapsed": true
   },
   "outputs": [],
   "source": [
    "import os"
   ]
  },
  {
   "cell_type": "code",
   "execution_count": 24,
   "metadata": {},
   "outputs": [
    {
     "data": {
      "text/plain": [
       "['0', 'Seja', 'ser', 'v-fin', 'PR=3S=SUBJ', '_', '_', '_', '_\\n']"
      ]
     },
     "execution_count": 24,
     "metadata": {},
     "output_type": "execute_result"
    }
   ],
   "source": [
    "arquivo = open(\"Summ-it++v2.txt\", \"r\", encoding=\"iso-8859-1\")\n",
    "arquivo.readline()\n",
    "arquivo.readline().split('\\t')"
   ]
  },
  {
   "cell_type": "code",
   "execution_count": 14,
   "metadata": {
    "collapsed": true
   },
   "outputs": [],
   "source": [
    "with open(\"Summ-it++v2.txt\", \"r\", encoding=\"iso-8859-1\") as file:\n",
    "    for line in file:\n",
    "        strLine = \"\"\n",
    "        columns = line.split('\\t')\n",
    "        if len(columns) == 9: \n",
    "            if len(columns[6]) > 1:\n",
    "                strLine += \"<span class='entity'>\" + columns[1]  + \"</span>\"\n",
    "                #print (strLine)\n",
    "            else:\n",
    "                strLine += \"<span class='word'>\" + columns[1]  + \"</span>\"\n",
    "                #print (strLine)"
   ]
  },
  {
   "cell_type": "code",
   "execution_count": 28,
   "metadata": {},
   "outputs": [
    {
     "name": "stdout",
     "output_type": "stream",
     "text": [
      "CIENCIA_2003_6457\tS1\t<span data-id='0'class='word'>Segundo</span> <span data-id='1'class='word'>a</span> <span data-id='2'class='word'>agência</span> <span data-id='3'class='word'>de</span> <span data-id='4'class='word'>notícias</span> <span data-id='5'class='word'>oficial</span> <span data-id='6'class='org'>Xinhua</span> <span data-id='7'class='word'>,</span> <span data-id='8'class='word'>o</span> <span data-id='9'class='word'>comitê</span> <span data-id='10'class='word'>central</span> <span data-id='11'class='word'>de</span> <span data-id='12'class='word'>o</span> <span data-id='13'class='org'>Partido_Comunista_Chinês</span> <span data-id='14'class='word'>,</span> <span data-id='15'class='word'>após</span> <span data-id='16'class='word'>uma</span> <span data-id='17'class='word'>reunião</span> <span data-id='18'class='word'>,</span> <span data-id='19'class='word'>alertou</span> <span data-id='20'class='word'>as</span> <span data-id='21'class='word'>autoridades</span> <span data-id='22'class='word'>de</span> <span data-id='23'class='word'>saúde</span> <span data-id='24'class='word'>a</span> <span data-id='25'class='word'>não</span> <span data-id='26'class='word'>esconder</span> <span data-id='27'class='word'>casos</span> <span data-id='28'class='word'>de</span> <span data-id='29'class='word'>a</span> <span data-id='30'class='word'>pneumonia</span> <span data-id='31'class='word'>,</span> <span data-id='32'class='word'>conhecida</span> <span data-id='33'class='word'>por</span> <span data-id='34'class='word'>a</span> <span data-id='35'class='word'>sigla</span> <span data-id='36'class='entity'>Sars</span> <span data-id='37'class='word'>(</span> <span data-id='38'class='word'>síndrome</span> <span data-id='39'class='word'>respiratória</span> <span data-id='40'class='word'>aguda</span> <span data-id='41'class='word'>grave</span> <span data-id='42'class='word'>)</span> <span data-id='43'class='word'>.</span> \n",
      "\n",
      "CIENCIA_2003_24219\tS1\t<span data-id='0'class='word'>A</span> <span data-id='1'class='word'>idéia</span> <span data-id='2'class='word'>foi</span> <span data-id='3'class='word'>lançada</span> <span data-id='4'class='word'>por</span> <span data-id='5'class='word'>o</span> <span data-id='6-7'class='per'>ministro Roberto_Amaral</span> <span data-id='8'class='word'>(</span> <span data-id='9-11'class='org'>Ciência e Tecnologia</span> <span data-id='12'class='word'>)</span> <span data-id='13'class='word'>e</span> <span data-id='14'class='word'>detalhada</span> <span data-id='15'class='entity'>ontem</span> <span data-id='16'class='word'>durante</span> <span data-id='17'class='word'>a</span> <span data-id='18'class='word'>abertura</span> <span data-id='19'class='word'>de</span> <span data-id='20'class='word'>o</span> <span data-id='21-22'class='entity'>1º Congresso_Internacional_de_Biodiesel</span> <span data-id='23'class='word'>,</span> <span data-id='24'class='word'>realizado</span> <span data-id='25'class='word'>em</span> <span data-id='26'class='entity'>Ribeirão_Preto</span> <span data-id='27'class='word'>e</span> <span data-id='28'class='word'>promovido</span> <span data-id='29'class='word'>por</span> <span data-id='30'class='word'>a</span> <span data-id='31'class='entity'>USP</span> <span data-id='32'class='word'>(</span> <span data-id='33'class='entity'>Universidade_de_São_Paulo</span> <span data-id='34'class='word'>)</span> <span data-id='35'class='word'>de</span> <span data-id='36'class='word'>a</span> <span data-id='37'class='word'>cidade</span> <span data-id='38'class='word'>.</span> \n",
      "\n",
      "CIENCIA_2003_24219\tS1\t<span data-id='0'class='word'>A</span> <span data-id='1'class='word'>idéia</span> <span data-id='2'class='word'>foi</span> <span data-id='3'class='word'>lançada</span> <span data-id='4'class='word'>por</span> <span data-id='5'class='word'>o</span> <span data-id='6-7'class='entity'>ministro Roberto_Amaral</span> <span data-id='8'class='word'>(</span> <span data-id='9-11'class='org'>Ciência e Tecnologia</span> <span data-id='12'class='word'>)</span> <span data-id='13'class='word'>e</span> <span data-id='14'class='word'>detalhada</span> <span data-id='15'class='entity'>ontem</span> <span data-id='16'class='word'>durante</span> <span data-id='17'class='word'>a</span> <span data-id='18'class='word'>abertura</span> <span data-id='19'class='word'>de</span> <span data-id='20'class='word'>o</span> <span data-id='21-22'class='entity'>1º Congresso_Internacional_de_Biodiesel</span> <span data-id='23'class='word'>,</span> <span data-id='24'class='word'>realizado</span> <span data-id='25'class='word'>em</span> <span data-id='26'class='plc'>Ribeirão_Preto</span> <span data-id='27'class='word'>e</span> <span data-id='28'class='word'>promovido</span> <span data-id='29'class='word'>por</span> <span data-id='30'class='word'>a</span> <span data-id='31'class='entity'>USP</span> <span data-id='32'class='word'>(</span> <span data-id='33'class='entity'>Universidade_de_São_Paulo</span> <span data-id='34'class='word'>)</span> <span data-id='35'class='word'>de</span> <span data-id='36'class='word'>a</span> <span data-id='37'class='word'>cidade</span> <span data-id='38'class='word'>.</span> \n",
      "\n",
      "CIENCIA_2003_24219\tS1\t<span data-id='0'class='word'>A</span> <span data-id='1'class='word'>idéia</span> <span data-id='2'class='word'>foi</span> <span data-id='3'class='word'>lançada</span> <span data-id='4'class='word'>por</span> <span data-id='5'class='word'>o</span> <span data-id='6-7'class='entity'>ministro Roberto_Amaral</span> <span data-id='8'class='word'>(</span> <span data-id='9-11'class='org'>Ciência e Tecnologia</span> <span data-id='12'class='word'>)</span> <span data-id='13'class='word'>e</span> <span data-id='14'class='word'>detalhada</span> <span data-id='15'class='entity'>ontem</span> <span data-id='16'class='word'>durante</span> <span data-id='17'class='word'>a</span> <span data-id='18'class='word'>abertura</span> <span data-id='19'class='word'>de</span> <span data-id='20'class='word'>o</span> <span data-id='21-22'class='entity'>1º Congresso_Internacional_de_Biodiesel</span> <span data-id='23'class='word'>,</span> <span data-id='24'class='word'>realizado</span> <span data-id='25'class='word'>em</span> <span data-id='26'class='entity'>Ribeirão_Preto</span> <span data-id='27'class='word'>e</span> <span data-id='28'class='word'>promovido</span> <span data-id='29'class='word'>por</span> <span data-id='30'class='word'>a</span> <span data-id='31'class='org'>USP</span> <span data-id='32'class='word'>(</span> <span data-id='33'class='entity'>Universidade_de_São_Paulo</span> <span data-id='34'class='word'>)</span> <span data-id='35'class='word'>de</span> <span data-id='36'class='word'>a</span> <span data-id='37'class='word'>cidade</span> <span data-id='38'class='word'>.</span> \n",
      "\n",
      "CIENCIA_2003_24219\tS1\t<span data-id='0'class='word'>A</span> <span data-id='1'class='word'>idéia</span> <span data-id='2'class='word'>foi</span> <span data-id='3'class='word'>lançada</span> <span data-id='4'class='word'>por</span> <span data-id='5'class='word'>o</span> <span data-id='6-7'class='entity'>ministro Roberto_Amaral</span> <span data-id='8'class='word'>(</span> <span data-id='9-11'class='org'>Ciência e Tecnologia</span> <span data-id='12'class='word'>)</span> <span data-id='13'class='word'>e</span> <span data-id='14'class='word'>detalhada</span> <span data-id='15'class='entity'>ontem</span> <span data-id='16'class='word'>durante</span> <span data-id='17'class='word'>a</span> <span data-id='18'class='word'>abertura</span> <span data-id='19'class='word'>de</span> <span data-id='20'class='word'>o</span> <span data-id='21-22'class='entity'>1º Congresso_Internacional_de_Biodiesel</span> <span data-id='23'class='word'>,</span> <span data-id='24'class='word'>realizado</span> <span data-id='25'class='word'>em</span> <span data-id='26'class='entity'>Ribeirão_Preto</span> <span data-id='27'class='word'>e</span> <span data-id='28'class='word'>promovido</span> <span data-id='29'class='word'>por</span> <span data-id='30'class='word'>a</span> <span data-id='31'class='entity'>USP</span> <span data-id='32'class='word'>(</span> <span data-id='33'class='org'>Universidade_de_São_Paulo</span> <span data-id='34'class='word'>)</span> <span data-id='35'class='word'>de</span> <span data-id='36'class='word'>a</span> <span data-id='37'class='word'>cidade</span> <span data-id='38'class='word'>.</span> \n",
      "\n",
      "CIENCIA_2003_24219\tS1\t<span data-id='0'class='word'>A</span> <span data-id='1'class='word'>idéia</span> <span data-id='2'class='word'>foi</span> <span data-id='3'class='word'>lançada</span> <span data-id='4'class='word'>por</span> <span data-id='5'class='word'>o</span> <span data-id='6-7'class='per'>ministro Roberto_Amaral</span> <span data-id='8'class='word'>(</span> <span data-id='9-11'class='entity'>Ciência e Tecnologia</span> <span data-id='12'class='word'>)</span> <span data-id='13'class='word'>e</span> <span data-id='14'class='word'>detalhada</span> <span data-id='15'class='entity'>ontem</span> <span data-id='16'class='word'>durante</span> <span data-id='17'class='word'>a</span> <span data-id='18'class='word'>abertura</span> <span data-id='19'class='word'>de</span> <span data-id='20'class='word'>o</span> <span data-id='21-22'class='entity'>1º Congresso_Internacional_de_Biodiesel</span> <span data-id='23'class='word'>,</span> <span data-id='24'class='word'>realizado</span> <span data-id='25'class='word'>em</span> <span data-id='26'class='entity'>Ribeirão_Preto</span> <span data-id='27'class='word'>e</span> <span data-id='28'class='word'>promovido</span> <span data-id='29'class='word'>por</span> <span data-id='30'class='word'>a</span> <span data-id='31'class='org'>USP</span> <span data-id='32'class='word'>(</span> <span data-id='33'class='entity'>Universidade_de_São_Paulo</span> <span data-id='34'class='word'>)</span> <span data-id='35'class='word'>de</span> <span data-id='36'class='word'>a</span> <span data-id='37'class='word'>cidade</span> <span data-id='38'class='word'>.</span> \n",
      "\n",
      "CIENCIA_2003_24219\tS1\t<span data-id='0'class='word'>A</span> <span data-id='1'class='word'>idéia</span> <span data-id='2'class='word'>foi</span> <span data-id='3'class='word'>lançada</span> <span data-id='4'class='word'>por</span> <span data-id='5'class='word'>o</span> <span data-id='6-7'class='entity'>ministro Roberto_Amaral</span> <span data-id='8'class='word'>(</span> <span data-id='9-11'class='entity'>Ciência e Tecnologia</span> <span data-id='12'class='word'>)</span> <span data-id='13'class='word'>e</span> <span data-id='14'class='word'>detalhada</span> <span data-id='15'class='entity'>ontem</span> <span data-id='16'class='word'>durante</span> <span data-id='17'class='word'>a</span> <span data-id='18'class='word'>abertura</span> <span data-id='19'class='word'>de</span> <span data-id='20'class='word'>o</span> <span data-id='21-22'class='entity'>1º Congresso_Internacional_de_Biodiesel</span> <span data-id='23'class='word'>,</span> <span data-id='24'class='word'>realizado</span> <span data-id='25'class='word'>em</span> <span data-id='26'class='plc'>Ribeirão_Preto</span> <span data-id='27'class='word'>e</span> <span data-id='28'class='word'>promovido</span> <span data-id='29'class='word'>por</span> <span data-id='30'class='word'>a</span> <span data-id='31'class='org'>USP</span> <span data-id='32'class='word'>(</span> <span data-id='33'class='entity'>Universidade_de_São_Paulo</span> <span data-id='34'class='word'>)</span> <span data-id='35'class='word'>de</span> <span data-id='36'class='word'>a</span> <span data-id='37'class='word'>cidade</span> <span data-id='38'class='word'>.</span> \n",
      "\n",
      "CIENCIA_2003_24219\tS1\t<span data-id='0'class='word'>A</span> <span data-id='1'class='word'>idéia</span> <span data-id='2'class='word'>foi</span> <span data-id='3'class='word'>lançada</span> <span data-id='4'class='word'>por</span> <span data-id='5'class='word'>o</span> <span data-id='6-7'class='entity'>ministro Roberto_Amaral</span> <span data-id='8'class='word'>(</span> <span data-id='9-11'class='entity'>Ciência e Tecnologia</span> <span data-id='12'class='word'>)</span> <span data-id='13'class='word'>e</span> <span data-id='14'class='word'>detalhada</span> <span data-id='15'class='entity'>ontem</span> <span data-id='16'class='word'>durante</span> <span data-id='17'class='word'>a</span> <span data-id='18'class='word'>abertura</span> <span data-id='19'class='word'>de</span> <span data-id='20'class='word'>o</span> <span data-id='21-22'class='entity'>1º Congresso_Internacional_de_Biodiesel</span> <span data-id='23'class='word'>,</span> <span data-id='24'class='word'>realizado</span> <span data-id='25'class='word'>em</span> <span data-id='26'class='entity'>Ribeirão_Preto</span> <span data-id='27'class='word'>e</span> <span data-id='28'class='word'>promovido</span> <span data-id='29'class='word'>por</span> <span data-id='30'class='word'>a</span> <span data-id='31'class='org'>USP</span> <span data-id='32'class='word'>(</span> <span data-id='33'class='org'>Universidade_de_São_Paulo</span> <span data-id='34'class='word'>)</span> <span data-id='35'class='word'>de</span> <span data-id='36'class='word'>a</span> <span data-id='37'class='word'>cidade</span> <span data-id='38'class='word'>.</span> \n",
      "\n",
      "CIENCIA_2003_24219\tS1\t<span data-id='0'class='word'>A</span> <span data-id='1'class='word'>idéia</span> <span data-id='2'class='word'>foi</span> <span data-id='3'class='word'>lançada</span> <span data-id='4'class='word'>por</span> <span data-id='5'class='word'>o</span> <span data-id='6-7'class='per'>ministro Roberto_Amaral</span> <span data-id='8'class='word'>(</span> <span data-id='9-11'class='entity'>Ciência e Tecnologia</span> <span data-id='12'class='word'>)</span> <span data-id='13'class='word'>e</span> <span data-id='14'class='word'>detalhada</span> <span data-id='15'class='entity'>ontem</span> <span data-id='16'class='word'>durante</span> <span data-id='17'class='word'>a</span> <span data-id='18'class='word'>abertura</span> <span data-id='19'class='word'>de</span> <span data-id='20'class='word'>o</span> <span data-id='21-22'class='entity'>1º Congresso_Internacional_de_Biodiesel</span> <span data-id='23'class='word'>,</span> <span data-id='24'class='word'>realizado</span> <span data-id='25'class='word'>em</span> <span data-id='26'class='entity'>Ribeirão_Preto</span> <span data-id='27'class='word'>e</span> <span data-id='28'class='word'>promovido</span> <span data-id='29'class='word'>por</span> <span data-id='30'class='word'>a</span> <span data-id='31'class='entity'>USP</span> <span data-id='32'class='word'>(</span> <span data-id='33'class='org'>Universidade_de_São_Paulo</span> <span data-id='34'class='word'>)</span> <span data-id='35'class='word'>de</span> <span data-id='36'class='word'>a</span> <span data-id='37'class='word'>cidade</span> <span data-id='38'class='word'>.</span> \n",
      "\n",
      "CIENCIA_2003_24219\tS1\t<span data-id='0'class='word'>A</span> <span data-id='1'class='word'>idéia</span> <span data-id='2'class='word'>foi</span> <span data-id='3'class='word'>lançada</span> <span data-id='4'class='word'>por</span> <span data-id='5'class='word'>o</span> <span data-id='6-7'class='entity'>ministro Roberto_Amaral</span> <span data-id='8'class='word'>(</span> <span data-id='9-11'class='entity'>Ciência e Tecnologia</span> <span data-id='12'class='word'>)</span> <span data-id='13'class='word'>e</span> <span data-id='14'class='word'>detalhada</span> <span data-id='15'class='entity'>ontem</span> <span data-id='16'class='word'>durante</span> <span data-id='17'class='word'>a</span> <span data-id='18'class='word'>abertura</span> <span data-id='19'class='word'>de</span> <span data-id='20'class='word'>o</span> <span data-id='21-22'class='entity'>1º Congresso_Internacional_de_Biodiesel</span> <span data-id='23'class='word'>,</span> <span data-id='24'class='word'>realizado</span> <span data-id='25'class='word'>em</span> <span data-id='26'class='plc'>Ribeirão_Preto</span> <span data-id='27'class='word'>e</span> <span data-id='28'class='word'>promovido</span> <span data-id='29'class='word'>por</span> <span data-id='30'class='word'>a</span> <span data-id='31'class='entity'>USP</span> <span data-id='32'class='word'>(</span> <span data-id='33'class='org'>Universidade_de_São_Paulo</span> <span data-id='34'class='word'>)</span> <span data-id='35'class='word'>de</span> <span data-id='36'class='word'>a</span> <span data-id='37'class='word'>cidade</span> <span data-id='38'class='word'>.</span> \n",
      "\n",
      "CIENCIA_2001_6423\tS1\t<span data-id='0'class='word'>Cientistas</span> <span data-id='1'class='word'>de</span> <span data-id='2'class='word'>a</span> <span data-id='3'class='org'>Universidade_da_Virgínia</span> <span data-id='4'class='word'>,</span> <span data-id='5'class='plc'>EUA</span> <span data-id='6'class='word'>,</span> <span data-id='7'class='word'>descobriram</span> <span data-id='8'class='word'>que</span> <span data-id='9'class='word'>esses</span> <span data-id='10'class='word'>gases</span> <span data-id='11'class='word'>,</span> <span data-id='12'class='word'>chamados</span> <span data-id='13-15'class='entity'>S - nitrosotióis</span> <span data-id='16'class='word'>(</span> <span data-id='17'class='entity'>Snos</span> <span data-id='18'class='word'>)</span> <span data-id='19'class='word'>atuam</span> <span data-id='20'class='word'>em</span> <span data-id='21'class='word'>todos</span> <span data-id='22'class='word'>os</span> <span data-id='23'class='word'>níveis</span> <span data-id='24'class='word'>de</span> <span data-id='25'class='word'>a</span> <span data-id='26'class='word'>regulação</span> <span data-id='27'class='word'>respiratória</span> <span data-id='28'class='word'>,</span> <span data-id='29'class='word'>fazendo</span> <span data-id='30'class='word'>com</span> <span data-id='31'class='word'>que</span> <span data-id='32'class='word'>os</span> <span data-id='33'class='word'>vasos</span> <span data-id='34'class='word'>sanguíneos</span> <span data-id='35'class='word'>e</span> <span data-id='36'class='word'>vias</span> <span data-id='37'class='word'>respiratórias</span> <span data-id='38'class='word'>dilatem</span> <span data-id='39'class='word'>,</span> <span data-id='40'class='word'>sinalizando</span> <span data-id='41'class='word'>a</span> <span data-id='42'class='word'>necessidade</span> <span data-id='43'class='word'>de</span> <span data-id='44'class='word'>oxigênio</span> <span data-id='45'class='word'>por</span> <span data-id='46'class='word'>parte</span> <span data-id='47'class='word'>de</span> <span data-id='48'class='word'>os</span> <span data-id='49'class='word'>tecidos</span> <span data-id='50'class='word'>e</span> <span data-id='51'class='word'>comunicando</span> <span data-id='52'class='word'>-se</span> <span data-id='53'class='word'>com</span> <span data-id='54'class='word'>as</span> <span data-id='55'class='word'>regiões</span> <span data-id='56'class='word'>cerebrais</span> <span data-id='57'class='word'>que</span> <span data-id='58'class='word'>controlam</span> <span data-id='59'class='word'>o</span> <span data-id='60'class='word'>desejo</span> <span data-id='61'class='word'>de</span> <span data-id='62'class='word'>respirar</span> <span data-id='63'class='word'>.</span> \n",
      "\n",
      "CIENCIA_2003_6465\tS1\t<span data-id='0'class='word'>Segundo</span> <span data-id='1'class='word'>informou</span> <span data-id='2'class='word'>a</span> <span data-id='3'class='org'>ASI</span> <span data-id='4'class='word'>(</span> <span data-id='5'class='word'>agência</span> <span data-id='6'class='word'>espacial</span> <span data-id='7'class='word'>italiana</span> <span data-id='8'class='word'>)</span> <span data-id='9'class='word'>em</span> <span data-id='10'class='word'>o</span> <span data-id='11'class='word'>fim</span> <span data-id='12'class='word'>de</span> <span data-id='13'class='word'>a</span> <span data-id='14'class='word'>noite</span> <span data-id='15'class='word'>de</span> <span data-id='16'class='word'>ontem</span> <span data-id='17'class='word'>por</span> <span data-id='18'class='word'>telefone</span> <span data-id='19'class='word'>,</span> <span data-id='20'class='word'>o</span> <span data-id='21'class='word'>impacto</span> <span data-id='22'class='word'>de</span> <span data-id='23'class='word'>os</span> <span data-id='24'class='word'>destroços</span> <span data-id='25'class='word'>teria</span> <span data-id='26'class='word'>ocorrido</span> <span data-id='27'class='word'>a</span> <span data-id='28'class='word'>as</span> <span data-id='29'class='entity'>18h06</span> <span data-id='30'class='word'>(</span> <span data-id='31'class='word'>horário</span> <span data-id='32'class='word'>de</span> <span data-id='33'class='plc'>Brasília</span> <span data-id='34'class='word'>)</span> <span data-id='35'class='word'>,</span> <span data-id='36'class='word'>em</span> <span data-id='37'class='word'>uma</span> <span data-id='38'class='word'>área</span> <span data-id='39'class='word'>remota</span> <span data-id='40'class='word'>de</span> <span data-id='41'class='word'>o</span> <span data-id='42'class='word'>oceano</span> <span data-id='43'class='word'>.</span> \n",
      "\n",
      "CIENCIA_2001_6410\tS1\t<span data-id='0'class='word'>A</span> <span data-id='1'class='word'>conclusão</span> <span data-id='2'class='word'>é</span> <span data-id='3'class='word'>de</span> <span data-id='4'class='per'>Barry_Ellman</span> <span data-id='5'class='word'>,</span> <span data-id='6'class='word'>de</span> <span data-id='7'class='word'>o</span> <span data-id='8-10'class='org'>Centro_para_Estudos_Urbanos e Comunitários_da_Universidade_de_Toronto</span> <span data-id='11'class='word'>,</span> <span data-id='12'class='entity'>Canadá</span> <span data-id='13'class='word'>.</span> \n",
      "\n",
      "CIENCIA_2001_6410\tS1\t<span data-id='0'class='word'>A</span> <span data-id='1'class='word'>conclusão</span> <span data-id='2'class='word'>é</span> <span data-id='3'class='word'>de</span> <span data-id='4'class='entity'>Barry_Ellman</span> <span data-id='5'class='word'>,</span> <span data-id='6'class='word'>de</span> <span data-id='7'class='word'>o</span> <span data-id='8-10'class='org'>Centro_para_Estudos_Urbanos e Comunitários_da_Universidade_de_Toronto</span> <span data-id='11'class='word'>,</span> <span data-id='12'class='plc'>Canadá</span> <span data-id='13'class='word'>.</span> \n",
      "\n",
      "CIENCIA_2000_6389\tS1\t<span data-id='0'class='word'>A</span> <span data-id='1'class='word'>opinião</span> <span data-id='2'class='word'>é</span> <span data-id='3'class='word'>de</span> <span data-id='4'class='word'>o</span> <span data-id='5'class='word'>agrônomo</span> <span data-id='6'class='per'>Miguel_Guerra</span> <span data-id='7'class='word'>,</span> <span data-id='8'class='word'>de</span> <span data-id='9'class='word'>a</span> <span data-id='10'class='org'>UFSC</span> <span data-id='11'class='word'>(</span> <span data-id='12'class='entity'>Universidade_Federal_de_Santa_Catarina</span> <span data-id='13'class='word'>)</span> <span data-id='14'class='word'>.</span> \n",
      "\n",
      "CIENCIA_2000_6389\tS1\t<span data-id='0'class='word'>A</span> <span data-id='1'class='word'>opinião</span> <span data-id='2'class='word'>é</span> <span data-id='3'class='word'>de</span> <span data-id='4'class='word'>o</span> <span data-id='5'class='word'>agrônomo</span> <span data-id='6'class='entity'>Miguel_Guerra</span> <span data-id='7'class='word'>,</span> <span data-id='8'class='word'>de</span> <span data-id='9'class='word'>a</span> <span data-id='10'class='org'>UFSC</span> <span data-id='11'class='word'>(</span> <span data-id='12'class='org'>Universidade_Federal_de_Santa_Catarina</span> <span data-id='13'class='word'>)</span> <span data-id='14'class='word'>.</span> \n",
      "\n",
      "CIENCIA_2000_6389\tS1\t<span data-id='0'class='word'>A</span> <span data-id='1'class='word'>opinião</span> <span data-id='2'class='word'>é</span> <span data-id='3'class='word'>de</span> <span data-id='4'class='word'>o</span> <span data-id='5'class='word'>agrônomo</span> <span data-id='6'class='per'>Miguel_Guerra</span> <span data-id='7'class='word'>,</span> <span data-id='8'class='word'>de</span> <span data-id='9'class='word'>a</span> <span data-id='10'class='entity'>UFSC</span> <span data-id='11'class='word'>(</span> <span data-id='12'class='org'>Universidade_Federal_de_Santa_Catarina</span> <span data-id='13'class='word'>)</span> <span data-id='14'class='word'>.</span> \n",
      "\n",
      "CIENCIA_2000_6380\tS1\t<span data-id='0'class='word'>A</span> <span data-id='1'class='word'>informação</span> <span data-id='2'class='word'>foi</span> <span data-id='3'class='word'>dada</span> <span data-id='4'class='word'>em</span> <span data-id='5'class='word'>a</span> <span data-id='6'class='word'>conferência</span> <span data-id='7-17'class='entity'>\" de a Origem de o Universo a os Grandes_Telescópios \"</span> <span data-id='18'class='word'>,</span> <span data-id='19'class='word'>ministrada</span> <span data-id='20'class='word'>ontem</span> <span data-id='21'class='word'>por</span> <span data-id='22'class='per'>João_Steiner</span> <span data-id='23'class='word'>,</span> <span data-id='24'class='word'>astrofísico</span> <span data-id='25'class='word'>de</span> <span data-id='26'class='word'>a</span> <span data-id='27'class='org'>USP</span> <span data-id='28'class='word'>,</span> <span data-id='29'class='word'>durante</span> <span data-id='30'class='word'>a</span> <span data-id='31-38'class='entity'>52ª Reunião_Anual de a Sociedade_Brasileira para o Progresso_da_Ciência</span> <span data-id='39'class='word'>.</span> \n",
      "\n",
      "CIENCIA_2005_28747\tS1\t<span data-id='0'class='word'>Pesquisadores</span> <span data-id='1'class='word'>de</span> <span data-id='2'class='word'>a</span> <span data-id='3'class='org'>Universidade_de_Michigan</span> <span data-id='4'class='word'>em</span> <span data-id='5'class='plc'>Ann_Arbor</span> <span data-id='6'class='word'>,</span> <span data-id='7'class='word'>em</span> <span data-id='8'class='word'>os</span> <span data-id='9'class='entity'>Estados_Unidos</span> <span data-id='10'class='word'>,</span> <span data-id='11'class='word'>sugerem</span> <span data-id='12'class='word'>que</span> <span data-id='13'class='word'>os</span> <span data-id='14'class='word'>olhos</span> <span data-id='15'class='word'>de</span> <span data-id='16'class='word'>asiáticos</span> <span data-id='17'class='word'>tendem</span> <span data-id='18'class='word'>a</span> <span data-id='19'class='word'>ver</span> <span data-id='20'class='word'>uma</span> <span data-id='21'class='word'>imagem</span> <span data-id='22'class='word'>em</span> <span data-id='23'class='word'>o</span> <span data-id='24'class='word'>seu</span> <span data-id='25'class='word'>conjunto</span> <span data-id='26'class='word'>,</span> <span data-id='27'class='word'>prestando</span> <span data-id='28'class='word'>tanto</span> <span data-id='29'class='word'>atenção</span> <span data-id='30'class='word'>a</span> <span data-id='31'class='word'>o</span> <span data-id='32'class='word'>que</span> <span data-id='33'class='word'>está</span> <span data-id='34'class='word'>em</span> <span data-id='35'class='word'>primeiro</span> <span data-id='36'class='word'>plano</span> <span data-id='37'class='word'>quanto</span> <span data-id='38'class='word'>em</span> <span data-id='39'class='word'>o</span> <span data-id='40'class='word'>fundo</span> <span data-id='41'class='word'>,</span> <span data-id='42'class='word'>enquanto</span> <span data-id='43'class='word'>os</span> <span data-id='44'class='word'>americanos</span> <span data-id='45'class='word'>demoram</span> <span data-id='46'class='word'>mais</span> <span data-id='47'class='word'>o</span> <span data-id='48'class='word'>olhar</span> <span data-id='49'class='word'>em</span> <span data-id='50'class='word'>o</span> <span data-id='51'class='word'>objeto</span> <span data-id='52'class='word'>central</span> <span data-id='53'class='word'>de</span> <span data-id='54'class='word'>um</span> <span data-id='55'class='word'>quadro</span> <span data-id='56'class='word'>.</span> \n",
      "\n",
      "CIENCIA_2005_28747\tS1\t<span data-id='0'class='word'>Pesquisadores</span> <span data-id='1'class='word'>de</span> <span data-id='2'class='word'>a</span> <span data-id='3'class='org'>Universidade_de_Michigan</span> <span data-id='4'class='word'>em</span> <span data-id='5'class='entity'>Ann_Arbor</span> <span data-id='6'class='word'>,</span> <span data-id='7'class='word'>em</span> <span data-id='8'class='word'>os</span> <span data-id='9'class='plc'>Estados_Unidos</span> <span data-id='10'class='word'>,</span> <span data-id='11'class='word'>sugerem</span> <span data-id='12'class='word'>que</span> <span data-id='13'class='word'>os</span> <span data-id='14'class='word'>olhos</span> <span data-id='15'class='word'>de</span> <span data-id='16'class='word'>asiáticos</span> <span data-id='17'class='word'>tendem</span> <span data-id='18'class='word'>a</span> <span data-id='19'class='word'>ver</span> <span data-id='20'class='word'>uma</span> <span data-id='21'class='word'>imagem</span> <span data-id='22'class='word'>em</span> <span data-id='23'class='word'>o</span> <span data-id='24'class='word'>seu</span> <span data-id='25'class='word'>conjunto</span> <span data-id='26'class='word'>,</span> <span data-id='27'class='word'>prestando</span> <span data-id='28'class='word'>tanto</span> <span data-id='29'class='word'>atenção</span> <span data-id='30'class='word'>a</span> <span data-id='31'class='word'>o</span> <span data-id='32'class='word'>que</span> <span data-id='33'class='word'>está</span> <span data-id='34'class='word'>em</span> <span data-id='35'class='word'>primeiro</span> <span data-id='36'class='word'>plano</span> <span data-id='37'class='word'>quanto</span> <span data-id='38'class='word'>em</span> <span data-id='39'class='word'>o</span> <span data-id='40'class='word'>fundo</span> <span data-id='41'class='word'>,</span> <span data-id='42'class='word'>enquanto</span> <span data-id='43'class='word'>os</span> <span data-id='44'class='word'>americanos</span> <span data-id='45'class='word'>demoram</span> <span data-id='46'class='word'>mais</span> <span data-id='47'class='word'>o</span> <span data-id='48'class='word'>olhar</span> <span data-id='49'class='word'>em</span> <span data-id='50'class='word'>o</span> <span data-id='51'class='word'>objeto</span> <span data-id='52'class='word'>central</span> <span data-id='53'class='word'>de</span> <span data-id='54'class='word'>um</span> <span data-id='55'class='word'>quadro</span> <span data-id='56'class='word'>.</span> \n",
      "\n"
     ]
    },
    {
     "name": "stdout",
     "output_type": "stream",
     "text": [
      "CIENCIA_2004_26425\tS1\t<span data-id='0'class='word'>Essa</span> <span data-id='1'class='word'>conclusão</span> <span data-id='2'class='word'>veio</span> <span data-id='3'class='word'>de</span> <span data-id='4'class='word'>um</span> <span data-id='5'class='word'>estudo</span> <span data-id='6'class='word'>feito</span> <span data-id='7'class='word'>por</span> <span data-id='8'class='per'>Domingos_Matos</span> <span data-id='9'class='word'>,</span> <span data-id='10'class='entity'>36</span> <span data-id='11'class='word'>,</span> <span data-id='12'class='word'>médico</span> <span data-id='13'class='word'>de</span> <span data-id='14'class='word'>a</span> <span data-id='15'class='org'>Universidade_Federal_do_Pará</span> <span data-id='16'class='word'>.</span> \n",
      "\n",
      "CIENCIA_2001_6416\tS1\t<span data-id='0'class='word'>A</span> <span data-id='1'class='word'>descoberta</span> <span data-id='2'class='word'>,</span> <span data-id='3'class='word'>segundo</span> <span data-id='4'class='word'>pesquisadores</span> <span data-id='5'class='word'>de</span> <span data-id='6'class='word'>a</span> <span data-id='7'class='org'>Universidade_de_Wisconsin-Madison</span> <span data-id='8'class='word'>(</span> <span data-id='9'class='plc'>EUA</span> <span data-id='10'class='word'>)</span> <span data-id='11'class='word'>,</span> <span data-id='12'class='word'>poderá</span> <span data-id='13'class='word'>levar</span> <span data-id='14'class='word'>a</span> <span data-id='15'class='word'>a</span> <span data-id='16'class='word'>compreensão</span> <span data-id='17'class='word'>de</span> <span data-id='18'class='word'>como</span> <span data-id='19'class='word'>as</span> <span data-id='20'class='word'>epidemias</span> <span data-id='21'class='word'>de</span> <span data-id='22'class='word'>a</span> <span data-id='23'class='word'>doença</span> <span data-id='24'class='word'>surgem</span> <span data-id='25'class='word'>e</span> <span data-id='26'class='word'>qual</span> <span data-id='27'class='word'>a</span> <span data-id='28'class='word'>melhor</span> <span data-id='29'class='word'>forma</span> <span data-id='30'class='word'>de</span> <span data-id='31'class='word'>combatê</span> <span data-id='32'class='word'>-las</span> <span data-id='33'class='word'>.</span> \n",
      "\n",
      "CIENCIA_2004_6494\tS1\t<span data-id='0'class='word'>A</span> <span data-id='1'class='word'>estimativa</span> <span data-id='2'class='word'>foi</span> <span data-id='3'class='word'>apresentada</span> <span data-id='4'class='word'>por</span> <span data-id='5'class='per'>John_Schellnhuber</span> <span data-id='6'class='word'>,</span> <span data-id='7'class='word'>de</span> <span data-id='8'class='word'>o</span> <span data-id='9'class='org'>Centro_Tyndall</span> <span data-id='10'class='word'>em</span> <span data-id='11'class='entity'>Norwich</span> <span data-id='12'class='word'>,</span> <span data-id='13'class='word'>em</span> <span data-id='14'class='word'>uma</span> <span data-id='15'class='word'>conferência</span> <span data-id='16'class='word'>sobre</span> <span data-id='17'class='word'>os</span> <span data-id='18'class='word'>efeitos</span> <span data-id='19'class='word'>de</span> <span data-id='20'class='word'>a</span> <span data-id='21'class='word'>mudança</span> <span data-id='22'class='word'>climática</span> <span data-id='23'class='word'>durante</span> <span data-id='24'class='word'>a</span> <span data-id='25'class='word'>reunião</span> <span data-id='26'class='word'>de</span> <span data-id='27'class='word'>a</span> <span data-id='28'class='entity'>AAAS</span> <span data-id='29'class='word'>.</span> \n",
      "\n",
      "CIENCIA_2004_6494\tS1\t<span data-id='0'class='word'>A</span> <span data-id='1'class='word'>estimativa</span> <span data-id='2'class='word'>foi</span> <span data-id='3'class='word'>apresentada</span> <span data-id='4'class='word'>por</span> <span data-id='5'class='entity'>John_Schellnhuber</span> <span data-id='6'class='word'>,</span> <span data-id='7'class='word'>de</span> <span data-id='8'class='word'>o</span> <span data-id='9'class='org'>Centro_Tyndall</span> <span data-id='10'class='word'>em</span> <span data-id='11'class='plc'>Norwich</span> <span data-id='12'class='word'>,</span> <span data-id='13'class='word'>em</span> <span data-id='14'class='word'>uma</span> <span data-id='15'class='word'>conferência</span> <span data-id='16'class='word'>sobre</span> <span data-id='17'class='word'>os</span> <span data-id='18'class='word'>efeitos</span> <span data-id='19'class='word'>de</span> <span data-id='20'class='word'>a</span> <span data-id='21'class='word'>mudança</span> <span data-id='22'class='word'>climática</span> <span data-id='23'class='word'>durante</span> <span data-id='24'class='word'>a</span> <span data-id='25'class='word'>reunião</span> <span data-id='26'class='word'>de</span> <span data-id='27'class='word'>a</span> <span data-id='28'class='entity'>AAAS</span> <span data-id='29'class='word'>.</span> \n",
      "\n",
      "CIENCIA_2004_6494\tS1\t<span data-id='0'class='word'>A</span> <span data-id='1'class='word'>estimativa</span> <span data-id='2'class='word'>foi</span> <span data-id='3'class='word'>apresentada</span> <span data-id='4'class='word'>por</span> <span data-id='5'class='entity'>John_Schellnhuber</span> <span data-id='6'class='word'>,</span> <span data-id='7'class='word'>de</span> <span data-id='8'class='word'>o</span> <span data-id='9'class='org'>Centro_Tyndall</span> <span data-id='10'class='word'>em</span> <span data-id='11'class='entity'>Norwich</span> <span data-id='12'class='word'>,</span> <span data-id='13'class='word'>em</span> <span data-id='14'class='word'>uma</span> <span data-id='15'class='word'>conferência</span> <span data-id='16'class='word'>sobre</span> <span data-id='17'class='word'>os</span> <span data-id='18'class='word'>efeitos</span> <span data-id='19'class='word'>de</span> <span data-id='20'class='word'>a</span> <span data-id='21'class='word'>mudança</span> <span data-id='22'class='word'>climática</span> <span data-id='23'class='word'>durante</span> <span data-id='24'class='word'>a</span> <span data-id='25'class='word'>reunião</span> <span data-id='26'class='word'>de</span> <span data-id='27'class='word'>a</span> <span data-id='28'class='org'>AAAS</span> <span data-id='29'class='word'>.</span> \n",
      "\n",
      "CIENCIA_2004_6494\tS1\t<span data-id='0'class='word'>A</span> <span data-id='1'class='word'>estimativa</span> <span data-id='2'class='word'>foi</span> <span data-id='3'class='word'>apresentada</span> <span data-id='4'class='word'>por</span> <span data-id='5'class='per'>John_Schellnhuber</span> <span data-id='6'class='word'>,</span> <span data-id='7'class='word'>de</span> <span data-id='8'class='word'>o</span> <span data-id='9'class='entity'>Centro_Tyndall</span> <span data-id='10'class='word'>em</span> <span data-id='11'class='entity'>Norwich</span> <span data-id='12'class='word'>,</span> <span data-id='13'class='word'>em</span> <span data-id='14'class='word'>uma</span> <span data-id='15'class='word'>conferência</span> <span data-id='16'class='word'>sobre</span> <span data-id='17'class='word'>os</span> <span data-id='18'class='word'>efeitos</span> <span data-id='19'class='word'>de</span> <span data-id='20'class='word'>a</span> <span data-id='21'class='word'>mudança</span> <span data-id='22'class='word'>climática</span> <span data-id='23'class='word'>durante</span> <span data-id='24'class='word'>a</span> <span data-id='25'class='word'>reunião</span> <span data-id='26'class='word'>de</span> <span data-id='27'class='word'>a</span> <span data-id='28'class='org'>AAAS</span> <span data-id='29'class='word'>.</span> \n",
      "\n",
      "CIENCIA_2004_6494\tS1\t<span data-id='0'class='word'>A</span> <span data-id='1'class='word'>estimativa</span> <span data-id='2'class='word'>foi</span> <span data-id='3'class='word'>apresentada</span> <span data-id='4'class='word'>por</span> <span data-id='5'class='entity'>John_Schellnhuber</span> <span data-id='6'class='word'>,</span> <span data-id='7'class='word'>de</span> <span data-id='8'class='word'>o</span> <span data-id='9'class='entity'>Centro_Tyndall</span> <span data-id='10'class='word'>em</span> <span data-id='11'class='plc'>Norwich</span> <span data-id='12'class='word'>,</span> <span data-id='13'class='word'>em</span> <span data-id='14'class='word'>uma</span> <span data-id='15'class='word'>conferência</span> <span data-id='16'class='word'>sobre</span> <span data-id='17'class='word'>os</span> <span data-id='18'class='word'>efeitos</span> <span data-id='19'class='word'>de</span> <span data-id='20'class='word'>a</span> <span data-id='21'class='word'>mudança</span> <span data-id='22'class='word'>climática</span> <span data-id='23'class='word'>durante</span> <span data-id='24'class='word'>a</span> <span data-id='25'class='word'>reunião</span> <span data-id='26'class='word'>de</span> <span data-id='27'class='word'>a</span> <span data-id='28'class='org'>AAAS</span> <span data-id='29'class='word'>.</span> \n",
      "\n",
      "CIENCIA_2004_26415\tS1\t<span data-id='0'class='word'>Bioantropólogo</span> <span data-id='1'class='word'>de</span> <span data-id='2'class='word'>a</span> <span data-id='3'class='org'>Universidade_MacMaster</span> <span data-id='4'class='word'>,</span> <span data-id='5'class='word'>em</span> <span data-id='6'class='word'>o</span> <span data-id='7'class='org'>Canadá</span> <span data-id='8'class='word'>,</span> <span data-id='9'class='word'>está</span> <span data-id='10'class='word'>prestes</span> <span data-id='11'class='word'>a</span> <span data-id='12'class='word'>investigar</span> <span data-id='13'class='word'>a</span> <span data-id='14'class='word'>relação</span> <span data-id='15'class='word'>entre</span> <span data-id='16'class='word'>neandertais</span> <span data-id='17'class='word'>e</span> <span data-id='18'class='word'>humanos</span> <span data-id='19'class='word'>modernos</span> <span data-id='20'class='word'>olhando</span> <span data-id='21'class='word'>não</span> <span data-id='22'class='word'>para</span> <span data-id='23'class='word'>seus</span> <span data-id='24'class='word'>crânios</span> <span data-id='25'class='word'>,</span> <span data-id='26'class='word'>mas</span> <span data-id='27'class='word'>para</span> <span data-id='28'class='word'>o</span> <span data-id='29'class='word'>que</span> <span data-id='30'class='word'>eles</span> <span data-id='31'class='word'>defecavam</span> <span data-id='32'class='word'>,</span> <span data-id='33'class='word'>e</span> <span data-id='34'class='word'>para</span> <span data-id='35'class='word'>as</span> <span data-id='36'class='word'>moléculas</span> <span data-id='37'class='word'>que</span> <span data-id='38'class='word'>podem</span> <span data-id='39'class='word'>contar</span> <span data-id='40'class='word'>a</span> <span data-id='41'class='word'>história</span> <span data-id='42'class='word'>de</span> <span data-id='43'class='word'>eles</span> <span data-id='44'class='word'>,</span> <span data-id='45'class='word'>ocultas_ali_dentro</span> <span data-id='46'class='word'>.</span> \n",
      "\n"
     ]
    }
   ],
   "source": [
    "def montaTexto(idText, idSent, k1, k2, v1, v2, palavras): \n",
    "    idData = \"\"\n",
    "    strWord = \"\"\n",
    "    strLine = \"\"\n",
    "    for idx in palavras:\n",
    "        #print (palavras)\n",
    "        if palavras[idx][1].find(\"(\") >= 0 or len(palavras[idx][1]) == 1:\n",
    "            idData += str(idx)\n",
    "        elif palavras[idx][1].find(\")\") >= 0:\n",
    "            idData += \"-\" + str(idx)\n",
    "        \n",
    "        if idx != k1 and idx != k2:\n",
    "            if len(palavras[idx][1]) > 1 and palavras[idx][1].find(\"(\") >= 0:\n",
    "                strWord += \"class='entity'>\"\n",
    "                strWord += palavras[idx][0]\n",
    "            elif len(palavras[idx][1]) == 1:\n",
    "                strWord += \"class='word'>\"\n",
    "                strWord += palavras[idx][0]\n",
    "            elif palavras[idx][1].find(\"(\") < 0:\n",
    "                strWord += palavras[idx][0]\n",
    "        \n",
    "        else:\n",
    "            if idx == k1:\n",
    "                strWord += \"class='org'>\"\n",
    "                strWord += palavras[idx][0]\n",
    "            \n",
    "            else:\n",
    "                if palavras[idx][1].find(\"PLC\") >= 0:\n",
    "                    strWord += \"class='plc'>\"\n",
    "                    strWord += palavras[idx][0]\n",
    "                elif palavras[idx][1].find(\"PER\") >= 0:\n",
    "                    strWord += \"class='per'>\"\n",
    "                    strWord += palavras[idx][0]\n",
    "                else:\n",
    "                    strWord += \"class='org'>\"\n",
    "                    strWord += palavras[idx][0]\n",
    "            \n",
    "        if palavras[idx][1].find(\")\") >= 0 or len(palavras[idx][1]) == 1:\n",
    "            strWord += \"</span> \"\n",
    "            \n",
    "        else:\n",
    "            strWord += \" \"\n",
    "        \n",
    "        if palavras[idx][1].find(\")\") >= 0 or len(palavras[idx][1]) == 1:\n",
    "                strLine = strLine + \"<span data-id='\" + idData + \"'\" + strWord\n",
    "                strWord = \"\"\n",
    "                idData = \"\"\n",
    "    \n",
    "    strLine = idText + \"\\t\" + idSent + \"\\t\" + strLine\n",
    "    \n",
    "    if idSent == \"S1\":\n",
    "        print (strLine)\n",
    "        print (\"\")\n",
    "    with open(\"saida.tsv\", \"a\") as myfile:\n",
    "        myfile.write(strLine)\n",
    "        myfile.write(\"\\n\")\n",
    "    \n",
    "import collections\n",
    "\n",
    "open(\"saida.tsv\", 'w').close()\n",
    "with open(\"saida.tsv\", \"a\") as myfile:\n",
    "    myfile.write(\"id_txt\\tid_sent\\thtml\")\n",
    "    myfile.write(\"\\n\")\n",
    "entidades = collections.OrderedDict()\n",
    "palavras = collections.OrderedDict()\n",
    "\n",
    "with open(\"Summ-it++v3.txt\", \"r\", encoding = \"utf8\") as file:\n",
    "    for line in file:\n",
    "        columns = line.split('\\t')\n",
    "            \n",
    "        if line.find(\"#begin\") >= 0:\n",
    "            columns = line.split('/')\n",
    "            idText = columns[7]\n",
    "        \n",
    "        columns = line.split('\\t')\n",
    "        \n",
    "        if len(columns) >= 6:\n",
    "            idSent = columns[0]\n",
    "            palavras[int(columns[1])] = [columns[2], columns[7]]\n",
    "            if columns[7].find(\"(ORG\") >= 0 or columns[7].find(\"(PLC\") >= 0 or columns[7].find(\"(PER\") >= 0:\n",
    "                entidades[int(columns[1])] = columns[7]\n",
    "\n",
    "        if line == \"\\n\":\n",
    "            if len(entidades) > 1:\n",
    "                for k1, v1 in entidades.items():\n",
    "                    if v1.find(\"ORG\") >= 0:\n",
    "                        for k2, v2 in entidades.items():\n",
    "                            if k1 != k2:\n",
    "                                if k2 < k1 and v2.find(\"ORG\") >= 0: \n",
    "                                    pass\n",
    "                                else:\n",
    "                                    montaTexto(idText, idSent, k1, k2, v1, v2, palavras)\n",
    "            entidades = collections.OrderedDict()\n",
    "            palavras = collections.OrderedDict()"
   ]
  },
  {
   "cell_type": "code",
   "execution_count": null,
   "metadata": {
    "collapsed": true
   },
   "outputs": [],
   "source": []
  }
 ],
 "metadata": {
  "kernelspec": {
   "display_name": "Python 3",
   "language": "python",
   "name": "python3"
  },
  "language_info": {
   "codemirror_mode": {
    "name": "ipython",
    "version": 3
   },
   "file_extension": ".py",
   "mimetype": "text/x-python",
   "name": "python",
   "nbconvert_exporter": "python",
   "pygments_lexer": "ipython3",
   "version": "3.5.3"
  }
 },
 "nbformat": 4,
 "nbformat_minor": 2
}
