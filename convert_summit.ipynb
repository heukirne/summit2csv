{
 "cells": [
  {
   "cell_type": "code",
   "execution_count": 1,
   "metadata": {
    "collapsed": true
   },
   "outputs": [],
   "source": [
    "import os"
   ]
  },
  {
   "cell_type": "code",
   "execution_count": 24,
   "metadata": {
    "collapsed": false
   },
   "outputs": [
    {
     "data": {
      "text/plain": [
       "['0', 'Seja', 'ser', 'v-fin', 'PR=3S=SUBJ', '_', '_', '_', '_\\n']"
      ]
     },
     "execution_count": 24,
     "metadata": {},
     "output_type": "execute_result"
    }
   ],
   "source": [
    "arquivo = open(\"Summ-it++v2.txt\", \"r\", encoding=\"iso-8859-1\")\n",
    "arquivo.readline()\n",
    "arquivo.readline().split('\\t')"
   ]
  },
  {
   "cell_type": "code",
   "execution_count": 30,
   "metadata": {
    "collapsed": false
   },
   "outputs": [
    {
     "name": "stdout",
     "output_type": "stream",
     "text": [
      "['#begin document /home/andre/Recursos-fontes/Summit/Summ-it_v3.0/corpusAnotado_CCR/CIENCIA_2002_22010/CIENCIA_2002_22010.txt\\n']\n",
      "['0', 'Seja', 'ser', 'v-fin', 'PR=3S=SUBJ', '_', '_', '_', '_\\n']\n",
      "['1', 'um', 'um', 'art', 'M=S', '_', '_', '_', '_\\n']\n",
      "['2', 'poodle', '_', 'n', 'M=S', '0', '_', '_', '_\\n']\n",
      "['3', 'ou', 'ou', 'conj-c', '_', '_', '_', '_', '_\\n']\n",
      "['4', 'um', 'um', 'art', 'M=S', '_', '_', '_', '_\\n']\n",
      "['5', 'pitbull', '_', 'n', 'M=S', '0', '_', '_', '_\\n']\n",
      "['6', ',', '_', ',', '_', '_', '_', '_', '_\\n']\n",
      "['7', 'um', 'um', 'art', 'M=S', '_', '_', '_', '_\\n']\n",
      "['8', 'cocker', '_', 'n', 'M=S', '0', '_', '_', '_\\n']\n",
      "['9', 'spaniel', '_', 'adj', 'M=S', '_', '_', '_', '_\\n']\n",
      "['10', 'ou', 'ou', 'conj-c', '_', '_', '_', '_', '_\\n']\n",
      "['11', 'um', 'um', 'art', 'M=S', '_', '_', '_', '_\\n']\n",
      "['12', 'dinamarquês', 'dinamarquês', 'n', 'M=S', '0', '_', '_', '_\\n']\n",
      "['13', ',', '_', ',', '_', '_', '_', '_', '_\\n']\n",
      "['14', 'o', 'o', 'art', 'M=S', '_', '_', '_', '_\\n']\n",
      "['15', 'seu', 'seu', 'pron-det', 'M=S', '0', '_', '_', '_\\n']\n",
      "['16', 'cachorro', 'cachorro', 'n', 'M=S', '_', '_', '_', '_\\n']\n",
      "['17', 'e', 'e', 'conj-c', '_', '_', '_', '_', '_\\n']\n",
      "['18', 'os', 'o', 'pron-det', 'M=P', '_', '_', '_', '_\\n']\n",
      "['19', 'de', 'de', 'prp', '_', '_', '_', '_', '_\\n']\n",
      "['20', 'os', 'o', 'art', 'M=P', '_', '_', '_', '_\\n']\n",
      "['21', 'seus', 'seu', 'pron-det', 'M=P', '0', '_', '_', '_\\n']\n",
      "['22', 'amigos', 'amigo', 'n', 'M=P', '_', '_', '_', '_\\n']\n",
      "['23', 'têm', 'ter', 'v-fin', 'PR=3P=IND', '_', '_', '_', '_\\n']\n",
      "['24', 'uma', 'um', 'art', 'F=S', '_', '_', '_', '_\\n']\n",
      "['25', 'origem', 'origem', 'n', 'F=S', '0', '_', '_', '_\\n']\n",
      "['26', 'comum', 'comum', 'adj', 'F=S', '_', '_', '_', '_\\n']\n",
      "['27', ':', ':', ':', '_', '_', '_', '_', '_\\n']\n",
      "['\\n']\n"
     ]
    }
   ],
   "source": [
    "with open(\"Summ-it++v2.txt\", \"r\", encoding=\"iso-8859-1\") as file:\n",
    "    for line in file:\n",
    "        columns = line.split('\\t')\n",
    "        print(line.split('\\t'))\n",
    "        if line == '\\n':\n",
    "            break"
   ]
  },
  {
   "cell_type": "code",
   "execution_count": 3,
   "metadata": {
    "collapsed": false
   },
   "outputs": [
    {
     "ename": "SyntaxError",
     "evalue": "invalid syntax (<ipython-input-3-82701b0e9c52>, line 4)",
     "output_type": "error",
     "traceback": [
      "\u001b[0;36m  File \u001b[0;32m\"<ipython-input-3-82701b0e9c52>\"\u001b[0;36m, line \u001b[0;32m4\u001b[0m\n\u001b[0;31m    if columns[6] in ['(ORG)','(PER)','(PLC)']\u001b[0m\n\u001b[0m                                              ^\u001b[0m\n\u001b[0;31mSyntaxError\u001b[0m\u001b[0;31m:\u001b[0m invalid syntax\n"
     ]
    }
   ],
   "source": [
    "while \n",
    "for line in arquivo:\n",
    "    strLine = \"\"\n",
    "    columns = line.split('\\t')\n",
    "    if columns[6] in ['(ORG)','(PER)','(PLC)']:\n",
    "        strLine += \"<span class='entity'>\" + columns[1]  + \"</span>\"\n",
    "    else\n",
    "        strLine += \"<span class='word'>\" + columns[1]  + \"</span>\"\n",
    "    \n",
    "    break\n",
    "strLine"
   ]
  },
  {
   "cell_type": "code",
   "execution_count": null,
   "metadata": {
    "collapsed": true
   },
   "outputs": [],
   "source": []
  }
 ],
 "metadata": {
  "kernelspec": {
   "display_name": "Python 3",
   "language": "python",
   "name": "python3"
  },
  "language_info": {
   "codemirror_mode": {
    "name": "ipython",
    "version": 3
   },
   "file_extension": ".py",
   "mimetype": "text/x-python",
   "name": "python",
   "nbconvert_exporter": "python",
   "pygments_lexer": "ipython3",
   "version": "3.5.2"
  }
 },
 "nbformat": 4,
 "nbformat_minor": 2
}
