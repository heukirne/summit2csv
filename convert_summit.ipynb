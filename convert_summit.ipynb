{
 "cells": [
  {
   "cell_type": "code",
   "execution_count": 1,
   "metadata": {
    "collapsed": true
   },
   "outputs": [],
   "source": [
    "import os"
   ]
  },
  {
   "cell_type": "code",
   "execution_count": 24,
   "metadata": {},
   "outputs": [
    {
     "data": {
      "text/plain": [
       "['0', 'Seja', 'ser', 'v-fin', 'PR=3S=SUBJ', '_', '_', '_', '_\\n']"
      ]
     },
     "execution_count": 24,
     "metadata": {},
     "output_type": "execute_result"
    }
   ],
   "source": [
    "arquivo = open(\"Summ-it++v2.txt\", \"r\", encoding=\"iso-8859-1\")\n",
    "arquivo.readline()\n",
    "arquivo.readline().split('\\t')"
   ]
  },
  {
   "cell_type": "code",
   "execution_count": 14,
   "metadata": {
    "collapsed": true
   },
   "outputs": [],
   "source": [
    "with open(\"Summ-it++v2.txt\", \"r\", encoding=\"iso-8859-1\") as file:\n",
    "    for line in file:\n",
    "        strLine = \"\"\n",
    "        columns = line.split('\\t')\n",
    "        if len(columns) == 9: \n",
    "            if len(columns[6]) > 1:\n",
    "                strLine += \"<span class='entity'>\" + columns[1]  + \"</span>\"\n",
    "                #print (strLine)\n",
    "            else:\n",
    "                strLine += \"<span class='word'>\" + columns[1]  + \"</span>\"\n",
    "                #print (strLine)"
   ]
  },
  {
   "cell_type": "code",
   "execution_count": 1,
   "metadata": {
    "collapsed": true
   },
   "outputs": [],
   "source": [
    "##    versão com contText = número do texto\n",
    "lista = {}\n",
    "x = 1\n",
    "contSent = 1\n",
    "contTok = 1\n",
    "contText = 1\n",
    "strLine = \"\"\n",
    "with open(\"Summ-it++v2.txt\", \"r\", encoding=\"iso-8859-1\") as file:\n",
    "    for line in file:\n",
    "        if line == \"#end document\\n\":\n",
    "            contSent = 1\n",
    "            contText = contText + 1\n",
    "        if line == \"\\n\":\n",
    "            if strLine.find(\"class='org'\") >= 0:\n",
    "                if strLine.find(\"class='org'\", strLine.find(\"class='org\") + 1) >= 0:\n",
    "                    lista[x] = strLine\n",
    "                    x = x + 1\n",
    "                elif strLine.find(\"class='per'\") >= 0:\n",
    "                    lista[x] = strLine\n",
    "                    x = x + 1\n",
    "                elif strLine.find(\"class='per'\") >= 0:\n",
    "                    lista[x] = strLine\n",
    "                    x = x + 1\n",
    "            contTok = 1\n",
    "            contSent = contSent + 1\n",
    "            strLine = \"\"\n",
    "        columns = line.split('\\t')\n",
    "        if len(columns) == 9: \n",
    "            if columns[6] == \"(PLC\" or columns[6] == \"(PLC)\" or columns[6] == \"PLC)\" or columns[6] == \"PLC\":\n",
    "                strLine += \"<span class='entity' class='plc' style='color:red' id='tok\"+str(contTok)+\"sent\"+str(contSent)+\"text\"+str(contText)+\"'>\"+columns[1]+\"</span> \"\n",
    "                contTok = contTok + 1\n",
    "            elif columns[6] == \"(ORG\" or columns[6] == \"(ORG)\" or columns[6] == \"ORG)\" or columns[6] == \"ORG\":\n",
    "                strLine += \"<span class='entity' class='org' style='color:blue' id='tok\"+str(contTok)+\"sent\"+str(contSent)+\"text\"+str(contText)+\"'>\"+columns[1]+\"</span> \"\n",
    "                contTok = contTok + 1\n",
    "            elif columns[6] == \"(PER\" or columns[6] == \"(PER)\" or columns[6] == \"PER)\" or columns[6] == \"PER\":\n",
    "                strLine += \"<span class='entity' class='per' style='color:green' id='tok\"+str(contTok)+\"sent\"+str(contSent)+\"text\"+str(contText)+\"'>\"+columns[1]+\"</span> \"\n",
    "                contTok = contTok + 1\n",
    "            elif len(columns[6]) > 1:\n",
    "                strLine += \"<span class='entity' id='tok\"+str(contTok)+\"sent\"+str(contSent)+\"text\"+str(contText)+\"'>\"+columns[1]+\"</span> \"\n",
    "            else:\n",
    "                strLine += \"<span class='word' id='tok\"+str(contTok)+\"sent\"+str(contSent)+\"text\"+str(contText)+\"'>\"+columns[1]+\"</span> \"\n",
    "                contTok = contTok + 1\n",
    "    \n",
    "    print (lista[1])"
   ]
  },
  {
   "cell_type": "code",
   "execution_count": 16,
   "metadata": {},
   "outputs": [
    {
     "name": "stdout",
     "output_type": "stream",
     "text": [
      "<span class='word' id='tok1sent9textCIENCIA_2002_22010'>A</span> <span class='word' id='tok2sent9textCIENCIA_2002_22010'>equipe</span> <span class='word' id='tok3sent9textCIENCIA_2002_22010'>de</span> <span class='entity' class='per' style='color:green' id='tok4sent9textCIENCIA_2002_22010'>Peter_Savolainen</span> <span class='word' id='tok5sent9textCIENCIA_2002_22010'>,</span> <span class='word' id='tok6sent9textCIENCIA_2002_22010'>de</span> <span class='word' id='tok7sent9textCIENCIA_2002_22010'>o</span> <span class='entity' class='org' style='color:blue' id='tok8sent9textCIENCIA_2002_22010'>Instituto_Real_de_Tecnologia</span> <span class='word' id='tok9sent9textCIENCIA_2002_22010'>,</span> <span class='word' id='tok10sent9textCIENCIA_2002_22010'>de</span> <span class='entity' class='plc' style='color:red' id='tok11sent9textCIENCIA_2002_22010'>Estocolmo</span> <span class='word' id='tok12sent9textCIENCIA_2002_22010'>,</span> <span class='entity' class='plc' style='color:red' id='tok13sent9textCIENCIA_2002_22010'>Suécia</span> <span class='word' id='tok14sent9textCIENCIA_2002_22010'>,</span> <span class='word' id='tok15sent9textCIENCIA_2002_22010'>constatou</span> <span class='word' id='tok16sent9textCIENCIA_2002_22010'>que</span> <span class='word' id='tok17sent9textCIENCIA_2002_22010'>a</span> <span class='word' id='tok18sent9textCIENCIA_2002_22010'>diversidade</span> <span class='word' id='tok19sent9textCIENCIA_2002_22010'>genética</span> <span class='word' id='tok20sent9textCIENCIA_2002_22010'>era</span> <span class='word' id='tok21sent9textCIENCIA_2002_22010'>maior</span> <span class='word' id='tok22sent9textCIENCIA_2002_22010'>entre</span> <span class='word' id='tok23sent9textCIENCIA_2002_22010'>os</span> <span class='word' id='tok24sent9textCIENCIA_2002_22010'>cães</span> <span class='word' id='tok25sent9textCIENCIA_2002_22010'>de</span> <span class='word' id='tok26sent9textCIENCIA_2002_22010'>o</span> <span class='word' id='tok27sent9textCIENCIA_2002_22010'>leste</span> <span class='word' id='tok28sent9textCIENCIA_2002_22010'>asiático</span> <span class='word' id='tok29sent9textCIENCIA_2002_22010'>.</span> \n"
     ]
    }
   ],
   "source": [
    "##    versão com contText = nome do texto\n",
    "lista = {}\n",
    "x = 1\n",
    "contSent = 1\n",
    "contTok = 1\n",
    "contText = \"\"\n",
    "strLine = \"\"\n",
    "with open(\"Summ-it++v2.txt\", \"r\", encoding=\"iso-8859-1\") as file:\n",
    "    for line in file:\n",
    "        columns = line.split('\\t')\n",
    "        if line.find(\"#begin\") >= 0:\n",
    "            columns = line.split('/')\n",
    "            contText = columns[7]\n",
    "        if line == \"\\n\":\n",
    "            if strLine.find(\"class='org'\") >= 0:\n",
    "                if strLine.find(\"class='org'\", strLine.find(\"class='org\") + 1) >= 0:\n",
    "                    lista[x] = strLine\n",
    "                    x = x + 1\n",
    "                elif strLine.find(\"class='per'\") >= 0:\n",
    "                    lista[x] = strLine\n",
    "                    x = x + 1\n",
    "                elif strLine.find(\"class='per'\") >= 0:\n",
    "                    lista[x] = strLine\n",
    "                    x = x + 1\n",
    "            contTok = 1\n",
    "            contSent = contSent + 1\n",
    "            strLine = \"\"\n",
    "        if len(columns) == 9: \n",
    "            if columns[6] == \"(PLC\" or columns[6] == \"(PLC)\" or columns[6] == \"PLC)\" or columns[6] == \"PLC\":\n",
    "                strLine += \"<span class='entity' class='plc' style='color:red' id='tok\"+str(contTok)+\"sent\"+str(contSent)+\"text\"+contText+\"'>\"+columns[1]+\"</span> \"\n",
    "                contTok = contTok + 1\n",
    "            elif columns[6] == \"(ORG\" or columns[6] == \"(ORG)\" or columns[6] == \"ORG)\" or columns[6] == \"ORG\":\n",
    "                strLine += \"<span class='entity' class='org' style='color:blue' id='tok\"+str(contTok)+\"sent\"+str(contSent)+\"text\"+contText+\"'>\"+columns[1]+\"</span> \"\n",
    "                contTok = contTok + 1\n",
    "            elif columns[6] == \"(PER\" or columns[6] == \"(PER)\" or columns[6] == \"PER)\" or columns[6] == \"PER\":\n",
    "                strLine += \"<span class='entity' class='per' style='color:green' id='tok\"+str(contTok)+\"sent\"+str(contSent)+\"text\"+contText+\"'>\"+columns[1]+\"</span> \"\n",
    "                contTok = contTok + 1\n",
    "            elif len(columns[6]) > 1:\n",
    "                strLine += \"<span class='entity' id='tok\"+str(contTok)+\"sent\"+str(contSent)+\"text\"+contText+\"'>\"+columns[1]+\"</span> \"\n",
    "            else:\n",
    "                strLine += \"<span class='word' id='tok\"+str(contTok)+\"sent\"+str(contSent)+\"text\"+contText+\"'>\"+columns[1]+\"</span> \"\n",
    "                contTok = contTok + 1\n",
    "    \n",
    "    print (lista[1])"
   ]
  },
  {
   "cell_type": "code",
   "execution_count": 41,
   "metadata": {},
   "outputs": [
    {
     "name": "stdout",
     "output_type": "stream",
     "text": [
      "CIENCIA_2002_22010\tS8\t<span id='tok0' class='word'>A</span> <span id='tok1' class='word'>equipe</span> <span id='tok2' class='word'>de</span> <span id='tok3' class='entity per'>Peter_Savolainen</span> <span id='tok4' class='word'>,</span> <span id='tok5' class='word'>de</span> <span id='tok6' class='word'>o</span> <span id='tok7' class='entity org'>Instituto_Real_de_Tecnologia</span> <span id='tok8' class='word'>,</span> <span id='tok9' class='word'>de</span> <span id='tok10' class='entity plc'>Estocolmo</span> <span id='tok11' class='word'>,</span> <span id='tok12' class='entity plc'>Suécia</span> <span id='tok13' class='word'>,</span> <span id='tok14' class='word'>constatou</span> <span id='tok15' class='word'>que</span> <span id='tok16' class='word'>a</span> <span id='tok17' class='word'>diversidade</span> <span id='tok18' class='word'>genética</span> <span id='tok19' class='word'>era</span> <span id='tok20' class='word'>maior</span> <span id='tok21' class='word'>entre</span> <span id='tok22' class='word'>os</span> <span id='tok23' class='word'>cães</span> <span id='tok24' class='word'>de</span> <span id='tok25' class='word'>o</span> <span id='tok26' class='word'>leste</span> <span id='tok27' class='word'>asiático</span> <span id='tok28' class='word'>.</span> \n"
     ]
    }
   ],
   "source": [
    "##    versão com contText = nome do texto\n",
    "lista = []\n",
    "strLine = \"\"\n",
    "\n",
    "with open(\"Summ-it++v3.txt\", \"r\") as file:\n",
    "    for line in file:\n",
    "        columns = line.split('\\t')\n",
    "        \n",
    "        if line.find(\"#begin\") >= 0:\n",
    "            columns = line.split('/')\n",
    "            text = columns[7]\n",
    "        \n",
    "        if len(columns) == 10:\n",
    "            if strLine == \"\":\n",
    "                strLine = text + \"\\t\" + columns[0] + \"\\t\"\n",
    "                \n",
    "            if columns[7] == \"(PLC\" or columns[7] == \"(PLC)\" or columns[7] == \"PLC)\" or columns[7] == \"PLC\":\n",
    "                classTxt = \"entity plc\"\n",
    "            elif columns[7] == \"(ORG\" or columns[7] == \"(ORG)\" or columns[7] == \"ORG)\" or columns[7] == \"ORG\":\n",
    "                classTxt = \"entity org\"\n",
    "            elif columns[7] == \"(PER\" or columns[7] == \"(PER)\" or columns[7] == \"PER)\" or columns[7] == \"PER\":\n",
    "                classTxt = \"entity per\"\n",
    "            elif len(columns[7]) > 1:\n",
    "                classTxt = \"entity\"\n",
    "            else:\n",
    "                classTxt = \"word\"\n",
    "                \n",
    "            strLine += \"<span id='tok\" + columns[1] + \"' class='\" + classTxt + \"'>\" + columns[2] + \"</span> \"\n",
    "        \n",
    "        if line == \"\\n\":\n",
    "            if strLine.find(\"org'\") >= 0:\n",
    "                if strLine.find(\"org'\", strLine.find(\"org'\") + 1) >= 0:\n",
    "                    lista.append(strLine)\n",
    "                elif strLine.find(\"per'\") >= 0:\n",
    "                    lista.append(strLine)\n",
    "                elif strLine.find(\"plc'\") >= 0:\n",
    "                    lista.append(strLine)\n",
    "            strLine = \"\"\n",
    "    \n",
    "open(\"saida.tsv\", 'w').close()\n",
    "with open(\"saida.tsv\", \"a\") as myfile:\n",
    "    myfile.write(\"id_txt\\tid_sent\\thtml\")\n",
    "    myfile.write(\"\\n\")\n",
    "    for line in lista:\n",
    "        myfile.write(line)\n",
    "        myfile.write(\"\\n\")\n",
    "        \n",
    "print(lista[0])"
   ]
  },
  {
   "cell_type": "code",
   "execution_count": null,
   "metadata": {
    "collapsed": true
   },
   "outputs": [],
   "source": []
  }
 ],
 "metadata": {
  "kernelspec": {
   "display_name": "Python 3",
   "language": "python",
   "name": "python3"
  },
  "language_info": {
   "codemirror_mode": {
    "name": "ipython",
    "version": 3
   },
   "file_extension": ".py",
   "mimetype": "text/x-python",
   "name": "python",
   "nbconvert_exporter": "python",
   "pygments_lexer": "ipython3",
   "version": "3.5.3"
  }
 },
 "nbformat": 4,
 "nbformat_minor": 2
}
